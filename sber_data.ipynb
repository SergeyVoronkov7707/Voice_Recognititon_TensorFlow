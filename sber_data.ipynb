{
 "cells": [
  {
   "cell_type": "code",
   "execution_count": 2,
   "id": "e9a5abe4",
   "metadata": {},
   "outputs": [],
   "source": [
    "import pandas as pd\n",
    "import numpy as np\n",
    "import os\n",
    "import pickle\n",
    "from tqdm import tqdm\n",
    "\n",
    "import pyaudio  \n",
    "import wave  \n",
    "\n",
    "import shutil\n",
    "\n",
    "import pymorphy2\n",
    "morph = pymorphy2.MorphAnalyzer()\n",
    "\n",
    "from collections import Counter\n",
    "\n",
    "import json\n",
    "\n",
    "import soundfile as sf"
   ]
  },
  {
   "cell_type": "code",
   "execution_count": 64,
   "id": "5ad75501",
   "metadata": {},
   "outputs": [],
   "source": [
    "path = 'data\\\\train_opus\\\\'"
   ]
  },
  {
   "cell_type": "code",
   "execution_count": 65,
   "id": "ce5168bd",
   "metadata": {},
   "outputs": [],
   "source": [
    "tweets = []\n",
    "name_json = ['1hour.jsonl', '10hour.jsonl', '100hour.jsonl', '10min.jsonl', 'manifest.jsonl']\n",
    "\n",
    "for line in open(path + name_json[-1], 'r'):\n",
    "    tweets.append(json.loads(line))"
   ]
  },
  {
   "cell_type": "code",
   "execution_count": 66,
   "id": "32b38ac0",
   "metadata": {},
   "outputs": [
    {
     "data": {
      "text/plain": [
       "{'id': '77b380796d242cf5bc09cfb551cffecd',\n",
       " 'audio_filepath': 'crowd/0/77b380796d242cf5bc09cfb551cffecd.opus',\n",
       " 'text': 'алиби',\n",
       " 'duration': 1.21}"
      ]
     },
     "execution_count": 66,
     "metadata": {},
     "output_type": "execute_result"
    }
   ],
   "source": [
    "tweets[0]"
   ]
  },
  {
   "cell_type": "markdown",
   "id": "ccb203cd",
   "metadata": {},
   "source": [
    "# Ф-я преобразования цифр в строчные значения"
   ]
  },
  {
   "cell_type": "code",
   "execution_count": 3,
   "id": "b940cad0",
   "metadata": {},
   "outputs": [],
   "source": [
    "def as_words(n):\n",
    "    \"\"\"Convert an integer n (+ve or -ve) to English words.\"\"\"\n",
    "    # lookups\n",
    "    ones = ['ноль', 'один', 'два', 'три', 'четыре',\n",
    "            'пять', 'шесть', 'семь', 'восемь', 'девять', \n",
    "            'десять', 'одиннадцать', 'двенадцать', 'тринадцать', 'четырнадцать',\n",
    "            'пятнадцать', 'шестнадцать', 'семнадцать', 'восемнадцать', 'девятнадцать']\n",
    "    tens = ['ноль', 'десять', 'двадцать', 'тридцать', 'сорок',\n",
    "            'пятьдесят', 'шестьдесяст', 'семьдесят', 'восемьдесят', 'девяносто']\n",
    "    # negative case\n",
    "    if n < 0:\n",
    "        return \"минус {0}\".format(as_words(abs(n)))\n",
    "    # 1000+\n",
    "    for order, word in [(10**12, \"трилион\"), (10**9, \"биллион\"),\n",
    "                        (10**6, \"миллион\"), (10**3, \"тысячи\")]:\n",
    "        if n >= order:\n",
    "            return \"{0} {1}{2}\".format(as_words(n // order), word,\n",
    "                                       \" {0}\".format(as_words(n % order))\n",
    "                                       if n % order else \"\")\n",
    "    # 100-999\n",
    "    if n >= 100:\n",
    "        if n / 300 > 1:\n",
    "            return \"триста {1}\".format(as_words(n // 100), \n",
    "                                                as_words(n % 100))\n",
    "        elif n / 300 == 1:\n",
    "            return \"триста\"\n",
    "        elif n / 200 >= 1:\n",
    "            return \"двести\".format(as_words(n // 100), \n",
    "                                                as_words(n % 100))\n",
    "        elif n / 200 == 1:\n",
    "            return \"двести\"\n",
    "        elif n / 100 > 1:\n",
    "            return \"сто {1}\".format(as_words(n // 100), \n",
    "                                                as_words(n % 100))\n",
    "        elif n / 100 == 1:\n",
    "            return \"сто\"\n",
    "        \n",
    "        else:\n",
    "            return \"{0} сто\".format(as_words(n // 100))\n",
    "    # 0-99\n",
    "    if n < 20:\n",
    "        return ones[n]\n",
    "    else:\n",
    "        return \"{0}{1}\".format(tens[n // 10],\n",
    "                               \" {0}\".format(as_words(n % 10)) \n",
    "                               if n % 10 else \"\") "
   ]
  },
  {
   "cell_type": "code",
   "execution_count": 4,
   "id": "6d57e1b8",
   "metadata": {},
   "outputs": [],
   "source": [
    "main_word = []"
   ]
  },
  {
   "cell_type": "code",
   "execution_count": 5,
   "id": "528e3b14",
   "metadata": {},
   "outputs": [],
   "source": [
    "word = ['килина', 'ванна','кухня','туалет','коридор','детская','спальня', 'включить', 'выключить']\n",
    "# word = ['включить', 'выключить', 'точка', 'привет', \"мотодепо\", 'пока', 'вверх', 'вниз', 'влево', \"вправо\"]"
   ]
  },
  {
   "cell_type": "code",
   "execution_count": 6,
   "id": "893e5493",
   "metadata": {},
   "outputs": [],
   "source": [
    "number = [0,1,2,3,4,5,6,7,8,9,10,11,12,13,14,15,16,17,18,19,20,30,40,50,60,70,80,90,\n",
    "         100,200, 300]"
   ]
  },
  {
   "cell_type": "code",
   "execution_count": 7,
   "id": "a28c3346",
   "metadata": {},
   "outputs": [
    {
     "data": {
      "text/plain": [
       "31"
      ]
     },
     "execution_count": 7,
     "metadata": {},
     "output_type": "execute_result"
    }
   ],
   "source": [
    "for i in number:\n",
    "    num = as_words(i)\n",
    "#     print(num, i)\n",
    "#     print('*' * 20)\n",
    "    main_word.append(num)\n",
    "len(main_word)"
   ]
  },
  {
   "cell_type": "code",
   "execution_count": 8,
   "id": "85e5391f",
   "metadata": {},
   "outputs": [
    {
     "data": {
      "text/plain": [
       "40"
      ]
     },
     "execution_count": 8,
     "metadata": {},
     "output_type": "execute_result"
    }
   ],
   "source": [
    "for i in word:\n",
    "    main_word.append(i)\n",
    "len(main_word)    "
   ]
  },
  {
   "cell_type": "markdown",
   "id": "7b9749e9",
   "metadata": {},
   "source": [
    "## Поиск слов в датасете"
   ]
  },
  {
   "cell_type": "code",
   "execution_count": 9,
   "id": "36fab09a",
   "metadata": {},
   "outputs": [
    {
     "data": {
      "text/plain": [
       "array(['ноль', 'один', 'два', 'три', 'четыре', 'пять', 'шесть', 'семь',\n",
       "       'восемь', 'девять', 'десять', 'одиннадцать', 'двенадцать',\n",
       "       'тринадцать', 'четырнадцать', 'пятнадцать', 'шестнадцать',\n",
       "       'семнадцать', 'восемнадцать', 'девятнадцать', 'двадцать',\n",
       "       'тридцать', 'сорок', 'пятьдесят', 'шестьдесяст', 'семьдесят',\n",
       "       'восемьдесят', 'девяносто', 'сто', 'двести', 'триста', 'килина',\n",
       "       'ванна', 'кухня', 'туалет', 'коридор', 'детская', 'спальня',\n",
       "       'включить', 'выключить'], dtype='<U12')"
      ]
     },
     "execution_count": 9,
     "metadata": {},
     "output_type": "execute_result"
    }
   ],
   "source": [
    "np.array(main_word)"
   ]
  },
  {
   "cell_type": "code",
   "execution_count": 10,
   "id": "c502c32a",
   "metadata": {},
   "outputs": [],
   "source": [
    "main_word_norm = [morph.parse(i)[0] for i in main_word]\n",
    "main_word_norm = [i.normal_form for i in main_word_norm]\n",
    "\n",
    "# word_norm = morph.parse(word)[0]\n",
    "# word_norm = word_norm.normal_form"
   ]
  },
  {
   "cell_type": "code",
   "execution_count": 11,
   "id": "d56ef959",
   "metadata": {},
   "outputs": [
    {
     "data": {
      "text/plain": [
       "array(['ноль', 'один', 'два', 'три', 'четыре', 'пять', 'шесть', 'семь',\n",
       "       'восемь', 'девять', 'десять', 'одиннадцать', 'двенадцать',\n",
       "       'тринадцать', 'четырнадцать', 'пятнадцать', 'шестнадцать',\n",
       "       'семнадцать', 'восемнадцать', 'девятнадцать', 'двадцать',\n",
       "       'тридцать', 'сорок', 'пятьдесят', 'шестьдесястый', 'семьдесят',\n",
       "       'восемьдесят', 'девяносто', 'сто', 'двести', 'триста', 'килина',\n",
       "       'ванна', 'кухня', 'туалет', 'коридор', 'детский', 'спальня',\n",
       "       'включить', 'выключить'], dtype='<U13')"
      ]
     },
     "execution_count": 11,
     "metadata": {},
     "output_type": "execute_result"
    }
   ],
   "source": [
    "np.array(main_word_norm)"
   ]
  },
  {
   "cell_type": "code",
   "execution_count": 11,
   "id": "501ebd49",
   "metadata": {},
   "outputs": [
    {
     "name": "stdout",
     "output_type": "stream",
     "text": [
      "manifest.jsonl\n",
      "{}\n"
     ]
    }
   ],
   "source": [
    "# 'manifest.jsonl'\n",
    "tweets = []\n",
    "res = {}\n",
    "count = 1\n",
    "for dict_ in tweets:\n",
    "    text = dict_['text']\n",
    "    if len(text.split()) == 1:\n",
    "        word_norm = morph.parse(text)[0]\n",
    "        word_norm = word_norm.normal_form\n",
    "        if text in main_word_norm:\n",
    "            print(f\"{name} : {text}\")\n",
    "            if text in res:\n",
    "                res[text] += 1\n",
    "            else:\n",
    "                res[text] = 1\n",
    "print('manifest.jsonl')       \n",
    "print(res)"
   ]
  },
  {
   "cell_type": "code",
   "execution_count": 27,
   "id": "d2d111a6",
   "metadata": {},
   "outputs": [],
   "source": [
    "with open(\"data\\\\train_opus\\\\crowd\\\\test.txt\", \"w\") as file:\n",
    "    file.write(\"tes test test\")"
   ]
  },
  {
   "cell_type": "code",
   "execution_count": 29,
   "id": "0ebacacd",
   "metadata": {},
   "outputs": [
    {
     "name": "stdout",
     "output_type": "stream",
     "text": [
      "1hour.jsonl\n",
      "{}\n",
      "10hours.jsonl\n",
      "{'выключи': 9, 'один': 1, 'восемьдесят': 1, 'детская': 1}\n",
      "100hours.jsonl\n",
      "{'выключи': 96, 'два': 1, 'включи': 1, 'один': 1, 'девяносто': 1, 'детский': 3, 'пятнадцать': 1, 'кухня': 1, 'пять': 1, 'детские': 1}\n",
      "10min.jsonl\n",
      "{}\n",
      "manifest.jsonl\n",
      "{'семь': 3, 'один': 6, 'кухня': 14, 'пятнадцать': 2, 'включи': 13, 'четыре': 4, 'три': 5, 'два': 3, 'пять': 3, 'детский': 68, 'детские': 3, 'семнадцать': 1, 'одна': 1, 'шесть': 1, 'девять': 1, 'одни': 1, 'двадцать': 1, 'включу': 1, 'тринадцать': 2, 'тридцать': 1, 'одиннадцать': 1, 'девятнадцать': 2, 'восемьдесят': 1, 'выключи': 933, 'детская': 12, 'килине': 1, 'девяносто': 1}\n"
     ]
    },
    {
     "data": {
      "text/plain": [
       "1204"
      ]
     },
     "execution_count": 29,
     "metadata": {},
     "output_type": "execute_result"
    }
   ],
   "source": [
    "path = 'data\\\\train_opus\\\\'\n",
    "\n",
    "name_json = ['1hour.jsonl', '10hours.jsonl', '100hours.jsonl', '10min.jsonl', 'manifest.jsonl']\n",
    "count_one = 0\n",
    "count_all = 0\n",
    "for name in name_json:\n",
    "    print(name)\n",
    "    tweets = []\n",
    "    for line in open(path + name, 'r'):\n",
    "        tweets.append(json.loads(line))\n",
    "        res = {}\n",
    "    for dict_ in tweets:\n",
    "        text = dict_['text']\n",
    "        path_file = dict_['audio_filepath']\n",
    "        path_file = path + path_file\n",
    "        name = dict_['id']\n",
    "        if len(text.strip().split()) == 1:\n",
    "    #         print(f\"{name} : {text} len == 1\")\n",
    "            word_norm = morph.parse(text)[0]\n",
    "            word_norm = word_norm.normal_form\n",
    "            if word_norm in main_word_norm:\n",
    "    #                     print(f\"{name} : {text}\")\n",
    "                count_all += 1\n",
    "                if text in res:\n",
    "                    res[text] += 1\n",
    "                else:\n",
    "                    res[text] = 1\n",
    "                shutil.copy(path_file, 'result_data\\\\2')\n",
    "                with open(f\"result_data\\\\2\\\\{name}.txt\", \"w\") as file:\n",
    "                    file.write(f\"{text}\")\n",
    "#                 shutil.copy(path_txt, 'result_all_data')\n",
    "#     print(name)       \n",
    "    print(res)\n",
    "count_all"
   ]
  },
  {
   "cell_type": "code",
   "execution_count": 30,
   "id": "543efcb9",
   "metadata": {},
   "outputs": [
    {
     "data": {
      "text/plain": [
       "False"
      ]
     },
     "execution_count": 30,
     "metadata": {},
     "output_type": "execute_result"
    }
   ],
   "source": [
    "os.path.exists(\"crowd/8/86b9b825fe0f2a6bba4f2765bdba1bc7.wav\")"
   ]
  },
  {
   "cell_type": "code",
   "execution_count": 50,
   "id": "8ddb7ac2",
   "metadata": {},
   "outputs": [
    {
     "name": "stdout",
     "output_type": "stream",
     "text": [
      "1hour.jsonl\n",
      "{}\n",
      "10hours.jsonl\n",
      "{'выключи': 9, 'детская': 1}\n",
      "100hours.jsonl\n",
      "{'выключи': 96, 'два': 1, 'включи': 1}\n",
      "10min.jsonl\n",
      "{}\n",
      "manifest.jsonl\n",
      "{'четыре': 1, 'три': 3, 'семь': 1, 'два': 1, 'пять': 1, 'один': 1, 'выключи': 933, 'детская': 12, 'включи': 3, 'килине': 1}\n"
     ]
    }
   ],
   "source": [
    "path = 'data\\\\'\n",
    "\n",
    "name_json = ['1hour.jsonl', '10hours.jsonl', '100hours.jsonl', '10min.jsonl', 'manifest.jsonl']\n",
    "count_one = 0\n",
    "count_all = 0\n",
    "for name in name_json:\n",
    "    print(name)\n",
    "    tweets = []\n",
    "    \n",
    "    for line in open(path + name, 'r', encoding = 'utf-8'):\n",
    "        tweets.append(json.loads(line))\n",
    "        res = {}\n",
    "#         print(line)\n",
    "    for dict_ in tweets:\n",
    "        one_twe = []\n",
    "        text = dict_['text']\n",
    "        audio_filepath = dict_['audio_filepath']\n",
    "        audio_filepath = 'data//' + audio_filepath\n",
    "        name = dict_['id']\n",
    "#         print(audio_filepath, audio_filepath.split('/')[1])\n",
    "        if audio_filepath.split('/')[1] == 0 and len(text.split()) == 1:\n",
    "            print(text)\n",
    "        if len(text.strip().split()) == 1:\n",
    "            if os.path.exists(audio_filepath):\n",
    "#                 print(1)\n",
    "                word_norm = morph.parse(text)[0]\n",
    "                word_norm = word_norm.normal_form\n",
    "                if word_norm in main_word_norm:\n",
    "#                     print(audio_filepath)\n",
    "                    if text in res:\n",
    "                        res[text] += 1\n",
    "                    else:\n",
    "                        res[text] = 1\n",
    "                \n",
    "                    shutil.copy(audio_filepath, 'result_data\\\\2')\n",
    "                    with open(f\"result_data\\\\2\\\\{name}.txt\", \"w\") as file:\n",
    "                        file.write(f\"{word_norm}\")\n",
    "            \n",
    "    print(res)"
   ]
  },
  {
   "cell_type": "code",
   "execution_count": 26,
   "id": "b8891016",
   "metadata": {},
   "outputs": [
    {
     "name": "stdout",
     "output_type": "stream",
     "text": [
      "{'id': 'cadbe57fe680d0581348a172820af423', 'audio_filepath': 'crowd/8/cadbe57fe680d0581348a172820af423.opus', 'text': 'улица молодежная дом семнадцать в', 'duration': 4.3649375}\n"
     ]
    }
   ],
   "source": [
    "name_json = ['1hour.jsonl', '10hours.jsonl', '100hours.jsonl', '10min.jsonl', 'manifest.jsonl']\n",
    "tweets = []\n",
    "res = {}\n",
    "count = 1\n",
    "\n",
    "for line in open(path + name_json[0], 'r'):\n",
    "    tweets.append(json.loads(line))\n",
    "print(tweets[0])"
   ]
  },
  {
   "cell_type": "code",
   "execution_count": null,
   "id": "4a1a804c",
   "metadata": {},
   "outputs": [],
   "source": []
  }
 ],
 "metadata": {
  "kernelspec": {
   "display_name": "Python 3 (ipykernel)",
   "language": "python",
   "name": "python3"
  },
  "language_info": {
   "codemirror_mode": {
    "name": "ipython",
    "version": 3
   },
   "file_extension": ".py",
   "mimetype": "text/x-python",
   "name": "python",
   "nbconvert_exporter": "python",
   "pygments_lexer": "ipython3",
   "version": "3.7.9"
  }
 },
 "nbformat": 4,
 "nbformat_minor": 5
}
