{
 "cells": [
  {
   "cell_type": "code",
   "execution_count": 1,
   "id": "a1cddb10",
   "metadata": {},
   "outputs": [],
   "source": [
    "import pandas as pd\n",
    "import numpy as np\n",
    "import os\n",
    "import pickle\n",
    "from tqdm import tqdm\n",
    "\n",
    "import pyaudio  \n",
    "import wave  \n",
    "\n",
    "import shutil\n",
    "\n",
    "import pymorphy2\n",
    "morph = pymorphy2.MorphAnalyzer()\n",
    "\n",
    "from collections import Counter"
   ]
  },
  {
   "cell_type": "markdown",
   "id": "6336c735",
   "metadata": {},
   "source": [
    "# Чтение данных"
   ]
  },
  {
   "cell_type": "code",
   "execution_count": 2,
   "id": "c8016018",
   "metadata": {},
   "outputs": [],
   "source": [
    "path = 'data'"
   ]
  },
  {
   "cell_type": "code",
   "execution_count": 3,
   "id": "7a9862d2",
   "metadata": {},
   "outputs": [],
   "source": [
    "df = pd.DataFrame(columns=['name', 'text', 'path'])"
   ]
  },
  {
   "cell_type": "code",
   "execution_count": 4,
   "id": "c132a9ca",
   "metadata": {},
   "outputs": [],
   "source": [
    "count = 0"
   ]
  },
  {
   "cell_type": "code",
   "execution_count": 5,
   "id": "d2db3d94",
   "metadata": {},
   "outputs": [
    {
     "data": {
      "text/plain": [
       "0"
      ]
     },
     "execution_count": 5,
     "metadata": {},
     "output_type": "execute_result"
    }
   ],
   "source": [
    "for i in os.walk(path):\n",
    "    count+= 1\n",
    "count"
   ]
  },
  {
   "cell_type": "code",
   "execution_count": 6,
   "id": "2a0ab61b",
   "metadata": {},
   "outputs": [],
   "source": [
    "# count = 0\n",
    "a = -1\n",
    "# for i in tqdm(range(count)):\n",
    "for root, dirs, files in os.walk(path):\n",
    "    if len(files) > 1:\n",
    "        for file in files:\n",
    "            path_file = root + '\\\\' + file\n",
    "            path_name = root + '\\\\'\n",
    "#                 print(root)\n",
    "            if file.split('.')[-1] == 'txt':\n",
    "                with open(path_file, encoding = 'utf-8') as f:\n",
    "    #                    print(f.read())\n",
    "                    dict_ = {'name': file,\n",
    "                             'text' : f.read(),\n",
    "                             'path': path_name}\n",
    "                    df= df.append(dict_, ignore_index=True)\n",
    "                    if a != i:\n",
    "                        a = i\n",
    "#                         print(a)\n",
    "#                         a = i\n",
    "#                         print(i)\n"
   ]
  },
  {
   "cell_type": "code",
   "execution_count": 7,
   "id": "fd94ce3f",
   "metadata": {},
   "outputs": [
    {
     "name": "stdout",
     "output_type": "stream",
     "text": [
      "<class 'pandas.core.frame.DataFrame'>\n",
      "RangeIndex: 93244 entries, 0 to 93243\n",
      "Data columns (total 3 columns):\n",
      " #   Column  Non-Null Count  Dtype \n",
      "---  ------  --------------  ----- \n",
      " 0   name    93244 non-null  object\n",
      " 1   text    93244 non-null  object\n",
      " 2   path    93244 non-null  object\n",
      "dtypes: object(3)\n",
      "memory usage: 2.1+ MB\n"
     ]
    }
   ],
   "source": [
    "df.info()"
   ]
  },
  {
   "cell_type": "code",
   "execution_count": 8,
   "id": "59fe6d0a",
   "metadata": {},
   "outputs": [
    {
     "name": "stdout",
     "output_type": "stream",
     "text": [
      "<class 'pandas.core.frame.DataFrame'>\n",
      "Int64Index: 93244 entries, 0 to 93243\n",
      "Data columns (total 3 columns):\n",
      " #   Column  Non-Null Count  Dtype \n",
      "---  ------  --------------  ----- \n",
      " 0   name    93244 non-null  object\n",
      " 1   text    93244 non-null  object\n",
      " 2   path    93244 non-null  object\n",
      "dtypes: object(3)\n",
      "memory usage: 2.8+ MB\n"
     ]
    }
   ],
   "source": [
    "# Удаление дубликатов\n",
    "df = df.drop_duplicates(subset=['name', 'text', 'path'], keep='last')\n",
    "df.info()"
   ]
  },
  {
   "cell_type": "code",
   "execution_count": 9,
   "id": "ab6e6db6",
   "metadata": {},
   "outputs": [],
   "source": [
    "# ф-я приводит слово к нормальной форме\n",
    "def norm_text(text):\n",
    "    res = []\n",
    "    for i in text.strip().split():\n",
    "        i = morph.parse(i)[0]\n",
    "        i = i.normal_form\n",
    "        res.append(i)\n",
    "    return res"
   ]
  },
  {
   "cell_type": "code",
   "execution_count": 10,
   "id": "edff405b",
   "metadata": {
    "scrolled": true
   },
   "outputs": [],
   "source": [
    "df['text_norm'] = df['text'].apply(lambda x: norm_text(x))"
   ]
  },
  {
   "cell_type": "code",
   "execution_count": 11,
   "id": "88ae32ff",
   "metadata": {},
   "outputs": [],
   "source": [
    "df['join_text_norm'] = df['text_norm'].apply(lambda x: ' '.join(x))"
   ]
  },
  {
   "cell_type": "code",
   "execution_count": 12,
   "id": "ddbbbef0",
   "metadata": {},
   "outputs": [],
   "source": [
    "df['full_path'] = [i + j for i, j in list(zip(df['path'], df['name']))]"
   ]
  },
  {
   "cell_type": "code",
   "execution_count": 45,
   "id": "31ecda2b",
   "metadata": {},
   "outputs": [],
   "source": [
    "df['name'] = [str(i).replace('.txt', '') for i in df['name']]"
   ]
  },
  {
   "cell_type": "code",
   "execution_count": 46,
   "id": "7480bf46",
   "metadata": {},
   "outputs": [
    {
     "data": {
      "text/html": [
       "<div>\n",
       "<style scoped>\n",
       "    .dataframe tbody tr th:only-of-type {\n",
       "        vertical-align: middle;\n",
       "    }\n",
       "\n",
       "    .dataframe tbody tr th {\n",
       "        vertical-align: top;\n",
       "    }\n",
       "\n",
       "    .dataframe thead th {\n",
       "        text-align: right;\n",
       "    }\n",
       "</style>\n",
       "<table border=\"1\" class=\"dataframe\">\n",
       "  <thead>\n",
       "    <tr style=\"text-align: right;\">\n",
       "      <th></th>\n",
       "      <th>name</th>\n",
       "      <th>text</th>\n",
       "      <th>path</th>\n",
       "      <th>text_norm</th>\n",
       "      <th>join_text_norm</th>\n",
       "      <th>full_path</th>\n",
       "    </tr>\n",
       "  </thead>\n",
       "  <tbody>\n",
       "    <tr>\n",
       "      <th>49847</th>\n",
       "      <td>3ca6115b-c7cc-4255-83da-892a65a8245b</td>\n",
       "      <td>а корпус два квартира двадцать семь этаж четвё...</td>\n",
       "      <td>data\\8\\9\\</td>\n",
       "      <td>[а, корпус, два, квартира, двадцать, семь, эта...</td>\n",
       "      <td>а корпус два квартира двадцать семь этаж четвё...</td>\n",
       "      <td>data\\8\\9\\3ca6115b-c7cc-4255-83da-892a65a8245b.txt</td>\n",
       "    </tr>\n",
       "    <tr>\n",
       "      <th>56735</th>\n",
       "      <td>2312600b-fa7e-40a9-8ef8-83dfc44ca0de</td>\n",
       "      <td>фиг тебе придётся тебя аудио слушать</td>\n",
       "      <td>data\\9\\c\\</td>\n",
       "      <td>[фига, ты, прийтись, ты, аудио, слушать]</td>\n",
       "      <td>фига ты прийтись ты аудио слушать</td>\n",
       "      <td>data\\9\\c\\2312600b-fa7e-40a9-8ef8-83dfc44ca0de.txt</td>\n",
       "    </tr>\n",
       "    <tr>\n",
       "      <th>8385</th>\n",
       "      <td>fbacb529-6985-44c8-a993-b02287592f9e</td>\n",
       "      <td>моя интуиция прислушиваться к своим ощущениям</td>\n",
       "      <td>data\\1\\6\\</td>\n",
       "      <td>[мой, интуиция, прислушиваться, к, свой, ощуще...</td>\n",
       "      <td>мой интуиция прислушиваться к свой ощущение</td>\n",
       "      <td>data\\1\\6\\fbacb529-6985-44c8-a993-b02287592f9e.txt</td>\n",
       "    </tr>\n",
       "  </tbody>\n",
       "</table>\n",
       "</div>"
      ],
      "text/plain": [
       "                                       name  \\\n",
       "49847  3ca6115b-c7cc-4255-83da-892a65a8245b   \n",
       "56735  2312600b-fa7e-40a9-8ef8-83dfc44ca0de   \n",
       "8385   fbacb529-6985-44c8-a993-b02287592f9e   \n",
       "\n",
       "                                                    text       path  \\\n",
       "49847  а корпус два квартира двадцать семь этаж четвё...  data\\8\\9\\   \n",
       "56735               фиг тебе придётся тебя аудио слушать  data\\9\\c\\   \n",
       "8385       моя интуиция прислушиваться к своим ощущениям  data\\1\\6\\   \n",
       "\n",
       "                                               text_norm  \\\n",
       "49847  [а, корпус, два, квартира, двадцать, семь, эта...   \n",
       "56735           [фига, ты, прийтись, ты, аудио, слушать]   \n",
       "8385   [мой, интуиция, прислушиваться, к, свой, ощуще...   \n",
       "\n",
       "                                          join_text_norm  \\\n",
       "49847  а корпус два квартира двадцать семь этаж четвё...   \n",
       "56735                  фига ты прийтись ты аудио слушать   \n",
       "8385         мой интуиция прислушиваться к свой ощущение   \n",
       "\n",
       "                                               full_path  \n",
       "49847  data\\8\\9\\3ca6115b-c7cc-4255-83da-892a65a8245b.txt  \n",
       "56735  data\\9\\c\\2312600b-fa7e-40a9-8ef8-83dfc44ca0de.txt  \n",
       "8385   data\\1\\6\\fbacb529-6985-44c8-a993-b02287592f9e.txt  "
      ]
     },
     "execution_count": 46,
     "metadata": {},
     "output_type": "execute_result"
    }
   ],
   "source": [
    "df.sample(3)"
   ]
  },
  {
   "cell_type": "code",
   "execution_count": 47,
   "id": "764b39eb",
   "metadata": {},
   "outputs": [],
   "source": [
    "df.to_pickle('voice.pkl')"
   ]
  },
  {
   "cell_type": "code",
   "execution_count": 7,
   "id": "c1729642",
   "metadata": {},
   "outputs": [],
   "source": [
    "df = pd.read_pickle('voice.pkl')"
   ]
  },
  {
   "cell_type": "code",
   "execution_count": 8,
   "id": "d4382336",
   "metadata": {},
   "outputs": [
    {
     "name": "stdout",
     "output_type": "stream",
     "text": [
      "(93244, 6)\n"
     ]
    },
    {
     "data": {
      "text/html": [
       "<div>\n",
       "<style scoped>\n",
       "    .dataframe tbody tr th:only-of-type {\n",
       "        vertical-align: middle;\n",
       "    }\n",
       "\n",
       "    .dataframe tbody tr th {\n",
       "        vertical-align: top;\n",
       "    }\n",
       "\n",
       "    .dataframe thead th {\n",
       "        text-align: right;\n",
       "    }\n",
       "</style>\n",
       "<table border=\"1\" class=\"dataframe\">\n",
       "  <thead>\n",
       "    <tr style=\"text-align: right;\">\n",
       "      <th></th>\n",
       "      <th>name</th>\n",
       "      <th>text</th>\n",
       "      <th>path</th>\n",
       "      <th>text_norm</th>\n",
       "      <th>join_text_norm</th>\n",
       "      <th>full_path</th>\n",
       "    </tr>\n",
       "  </thead>\n",
       "  <tbody>\n",
       "    <tr>\n",
       "      <th>25097</th>\n",
       "      <td>401e3254-4bc5-4cdf-a889-47cf30dc4ae2</td>\n",
       "      <td>аа на строительстве реальность дохера бабок</td>\n",
       "      <td>data\\4\\5\\</td>\n",
       "      <td>[аа, на, строительство, реальность, дохер, бабка]</td>\n",
       "      <td>аа на строительство реальность дохер бабка</td>\n",
       "      <td>data\\4\\5\\401e3254-4bc5-4cdf-a889-47cf30dc4ae2.txt</td>\n",
       "    </tr>\n",
       "  </tbody>\n",
       "</table>\n",
       "</div>"
      ],
      "text/plain": [
       "                                       name  \\\n",
       "25097  401e3254-4bc5-4cdf-a889-47cf30dc4ae2   \n",
       "\n",
       "                                              text       path  \\\n",
       "25097  аа на строительстве реальность дохера бабок  data\\4\\5\\   \n",
       "\n",
       "                                               text_norm  \\\n",
       "25097  [аа, на, строительство, реальность, дохер, бабка]   \n",
       "\n",
       "                                   join_text_norm  \\\n",
       "25097  аа на строительство реальность дохер бабка   \n",
       "\n",
       "                                               full_path  \n",
       "25097  data\\4\\5\\401e3254-4bc5-4cdf-a889-47cf30dc4ae2.txt  "
      ]
     },
     "execution_count": 8,
     "metadata": {},
     "output_type": "execute_result"
    }
   ],
   "source": [
    "print(df.shape)\n",
    "df.sample()"
   ]
  },
  {
   "cell_type": "code",
   "execution_count": 9,
   "id": "192a9e1b",
   "metadata": {},
   "outputs": [
    {
     "name": "stdout",
     "output_type": "stream",
     "text": [
      "<class 'pandas.core.frame.DataFrame'>\n",
      "Int64Index: 93244 entries, 0 to 93243\n",
      "Data columns (total 6 columns):\n",
      " #   Column          Non-Null Count  Dtype \n",
      "---  ------          --------------  ----- \n",
      " 0   name            93244 non-null  object\n",
      " 1   text            93244 non-null  object\n",
      " 2   path            93244 non-null  object\n",
      " 3   text_norm       93244 non-null  object\n",
      " 4   join_text_norm  93244 non-null  object\n",
      " 5   full_path       93244 non-null  object\n",
      "dtypes: object(6)\n",
      "memory usage: 5.0+ MB\n"
     ]
    }
   ],
   "source": [
    "df.info()"
   ]
  },
  {
   "cell_type": "markdown",
   "id": "6bd8203e",
   "metadata": {},
   "source": [
    "# Воспроизведение из df"
   ]
  },
  {
   "cell_type": "code",
   "execution_count": 10,
   "id": "82b8fe81",
   "metadata": {},
   "outputs": [],
   "source": [
    "def play_wav(text, path):\n",
    "    print(text)\n",
    "    #define stream chunk   \n",
    "    chunk = 1024  \n",
    "\n",
    "    #open a wav format music  \n",
    "    f = wave.open(fr\"{path}\",\"rb\")  \n",
    "    #instantiate PyAudio  \n",
    "    p = pyaudio.PyAudio()  \n",
    "    #open stream  \n",
    "    stream = p.open(format = p.get_format_from_width(f.getsampwidth()),  \n",
    "                    channels = f.getnchannels(),  \n",
    "                    rate = f.getframerate(),  \n",
    "                    output = True)  \n",
    "    #read data  \n",
    "    data = f.readframes(chunk)  \n",
    "\n",
    "    #play stream  \n",
    "    while data:  \n",
    "        stream.write(data)  \n",
    "        data = f.readframes(chunk)  \n",
    "\n",
    "    #stop stream  \n",
    "    stream.stop_stream()  \n",
    "    stream.close()  \n",
    "\n",
    "    #close PyAudio  \n",
    "    p.terminate() "
   ]
  },
  {
   "cell_type": "code",
   "execution_count": 9,
   "id": "17d2bbd4",
   "metadata": {},
   "outputs": [
    {
     "data": {
      "text/plain": [
       "0"
      ]
     },
     "execution_count": 9,
     "metadata": {},
     "output_type": "execute_result"
    }
   ],
   "source": [
    "find = 'down'\n",
    "# path = df['path'][df['text'] == find]\n",
    "name = df['name'][df['text'] == find]\n",
    "# text = df['text'][df['text'] == find]\n",
    "# path_name = [i + j.replace('txt', 'wav') for i, j in list(zip(path, name))]\n",
    "len(name)"
   ]
  },
  {
   "cell_type": "code",
   "execution_count": 54,
   "id": "dac7865d",
   "metadata": {},
   "outputs": [
    {
     "name": "stdout",
     "output_type": "stream",
     "text": [
      "точка\n",
      "точка\n",
      "точка\n",
      "точка\n",
      "точка\n",
      "точка\n"
     ]
    }
   ],
   "source": [
    "# if len(path_name) >= 1:\n",
    "#     for i, j in list(zip(text, path_name)):\n",
    "#         play_wav(i, j)"
   ]
  },
  {
   "cell_type": "markdown",
   "id": "e3dab942",
   "metadata": {},
   "source": [
    "# Ф-я преобразования цифр в строчные значения"
   ]
  },
  {
   "cell_type": "code",
   "execution_count": 2,
   "id": "7f65c875",
   "metadata": {},
   "outputs": [],
   "source": [
    "def as_words(n):\n",
    "    \"\"\"Convert an integer n (+ve or -ve) to English words.\"\"\"\n",
    "    # lookups\n",
    "    ones = ['ноль', 'один', 'два', 'три', 'четыре',\n",
    "            'пять', 'шесть', 'семь', 'восемь', 'девять', \n",
    "            'десять', 'одиннадцать', 'двенадцать', 'тринадцать', 'четырнадцать',\n",
    "            'пятнадцать', 'шестнадцать', 'семнадцать', 'восемнадцать', 'девятнадцать']\n",
    "    tens = ['ноль', 'десять', 'двадцать', 'тридцать', 'сорок',\n",
    "            'пятьдесят', 'шестьдесяст', 'семьдесят', 'восемьдесят', 'девяносто']\n",
    "    # negative case\n",
    "    if n < 0:\n",
    "        return \"минус {0}\".format(as_words(abs(n)))\n",
    "    # 1000+\n",
    "    for order, word in [(10**12, \"трилион\"), (10**9, \"биллион\"),\n",
    "                        (10**6, \"миллион\"), (10**3, \"тысячи\")]:\n",
    "        if n >= order:\n",
    "            return \"{0} {1}{2}\".format(as_words(n // order), word,\n",
    "                                       \" {0}\".format(as_words(n % order))\n",
    "                                       if n % order else \"\")\n",
    "    # 100-999\n",
    "    if n >= 100:\n",
    "        if n / 300 > 1:\n",
    "            return \"триста {1}\".format(as_words(n // 100), \n",
    "                                                as_words(n % 100))\n",
    "        elif n / 300 == 1:\n",
    "            return \"триста\"\n",
    "        elif n / 200 >= 1:\n",
    "            return \"двести\".format(as_words(n // 100), \n",
    "                                                as_words(n % 100))\n",
    "        elif n / 200 == 1:\n",
    "            return \"двести\"\n",
    "        elif n / 100 > 1:\n",
    "            return \"сто {1}\".format(as_words(n // 100), \n",
    "                                                as_words(n % 100))\n",
    "        elif n / 100 == 1:\n",
    "            return \"сто\"\n",
    "        \n",
    "        else:\n",
    "            return \"{0} сто\".format(as_words(n // 100))\n",
    "    # 0-99\n",
    "    if n < 20:\n",
    "        return ones[n]\n",
    "    else:\n",
    "        return \"{0}{1}\".format(tens[n // 10],\n",
    "                               \" {0}\".format(as_words(n % 10)) \n",
    "                               if n % 10 else \"\") "
   ]
  },
  {
   "cell_type": "code",
   "execution_count": 3,
   "id": "29d70c90",
   "metadata": {},
   "outputs": [],
   "source": [
    "main_word = []"
   ]
  },
  {
   "cell_type": "code",
   "execution_count": 4,
   "id": "af3004df",
   "metadata": {},
   "outputs": [],
   "source": [
    "word = ['килина', 'ванна','кухня','туалет','коридор','детская','спальня', 'включить', 'выключить']\n",
    "# word = ['включить', 'выключить', 'точка', 'привет', \"мотодепо\", 'пока', 'вверх', 'вниз', 'влево', \"вправо\"]"
   ]
  },
  {
   "cell_type": "code",
   "execution_count": 5,
   "id": "f4ed4df3",
   "metadata": {},
   "outputs": [],
   "source": [
    "number = [0,1,2,3,4,5,6,7,8,9,10,11,12,13,14,15,16,17,18,19,20,30,40,50,60,70,80,90,\n",
    "         100,200, 300]"
   ]
  },
  {
   "cell_type": "code",
   "execution_count": 6,
   "id": "62a5fb12",
   "metadata": {},
   "outputs": [
    {
     "data": {
      "text/plain": [
       "31"
      ]
     },
     "execution_count": 6,
     "metadata": {},
     "output_type": "execute_result"
    }
   ],
   "source": [
    "len(number)"
   ]
  },
  {
   "cell_type": "code",
   "execution_count": 7,
   "id": "03bc9664",
   "metadata": {},
   "outputs": [
    {
     "data": {
      "text/plain": [
       "31"
      ]
     },
     "execution_count": 7,
     "metadata": {},
     "output_type": "execute_result"
    }
   ],
   "source": [
    "for i in number:\n",
    "    num = as_words(i)\n",
    "#     print(num, i)\n",
    "#     print('*' * 20)\n",
    "    main_word.append(num)\n",
    "len(main_word)"
   ]
  },
  {
   "cell_type": "code",
   "execution_count": 8,
   "id": "adcd15f3",
   "metadata": {},
   "outputs": [
    {
     "data": {
      "text/plain": [
       "40"
      ]
     },
     "execution_count": 8,
     "metadata": {},
     "output_type": "execute_result"
    }
   ],
   "source": [
    "for i in word:\n",
    "    main_word.append(i)\n",
    "len(main_word)    "
   ]
  },
  {
   "cell_type": "markdown",
   "id": "e7e84cef",
   "metadata": {},
   "source": [
    "# normal form"
   ]
  },
  {
   "cell_type": "markdown",
   "id": "4f9f9ab6",
   "metadata": {},
   "source": [
    "## save result_all_data"
   ]
  },
  {
   "cell_type": "markdown",
   "id": "2bb0e58f",
   "metadata": {},
   "source": [
    "## эта часть ищет слова из main_word, проверяя каждое слово в тексте к аудио "
   ]
  },
  {
   "cell_type": "code",
   "execution_count": 18,
   "id": "3fdb1bc8",
   "metadata": {},
   "outputs": [
    {
     "data": {
      "text/plain": [
       "Index(['name', 'text', 'path', 'text_norm', 'join_text_norm', 'full_path'], dtype='object')"
      ]
     },
     "execution_count": 18,
     "metadata": {},
     "output_type": "execute_result"
    }
   ],
   "source": [
    "df.columns"
   ]
  },
  {
   "cell_type": "code",
   "execution_count": 18,
   "id": "aa78328e",
   "metadata": {},
   "outputs": [
    {
     "name": "stderr",
     "output_type": "stream",
     "text": [
      "  2%|██                                                                                 | 1/41 [00:15<10:30, 15.75s/it]"
     ]
    },
    {
     "name": "stdout",
     "output_type": "stream",
     "text": [
      "ноль 159\n"
     ]
    },
    {
     "name": "stderr",
     "output_type": "stream",
     "text": [
      "\r",
      "  5%|████                                                                               | 2/41 [00:54<18:52, 29.03s/it]"
     ]
    },
    {
     "name": "stdout",
     "output_type": "stream",
     "text": [
      "один 2079\n"
     ]
    },
    {
     "name": "stderr",
     "output_type": "stream",
     "text": [
      "\r",
      "  7%|██████                                                                             | 3/41 [01:28<19:52, 31.38s/it]"
     ]
    },
    {
     "name": "stdout",
     "output_type": "stream",
     "text": [
      "два 1595\n"
     ]
    },
    {
     "name": "stderr",
     "output_type": "stream",
     "text": [
      "\r",
      " 10%|████████                                                                           | 4/41 [01:52<17:42, 28.71s/it]"
     ]
    },
    {
     "name": "stdout",
     "output_type": "stream",
     "text": [
      "три 969\n"
     ]
    },
    {
     "name": "stderr",
     "output_type": "stream",
     "text": [
      "\r",
      " 12%|██████████                                                                         | 5/41 [02:11<15:07, 25.22s/it]"
     ]
    },
    {
     "name": "stdout",
     "output_type": "stream",
     "text": [
      "четыре 552\n"
     ]
    },
    {
     "name": "stderr",
     "output_type": "stream",
     "text": [
      "\r",
      " 15%|████████████▏                                                                      | 6/41 [02:30<13:24, 23.00s/it]"
     ]
    },
    {
     "name": "stdout",
     "output_type": "stream",
     "text": [
      "пять 780\n"
     ]
    },
    {
     "name": "stderr",
     "output_type": "stream",
     "text": [
      "\r",
      " 17%|██████████████▏                                                                    | 7/41 [02:46<11:42, 20.66s/it]"
     ]
    },
    {
     "name": "stdout",
     "output_type": "stream",
     "text": [
      "шесть 349\n"
     ]
    },
    {
     "name": "stderr",
     "output_type": "stream",
     "text": [
      "\r",
      " 20%|████████████████▏                                                                  | 8/41 [03:00<10:10, 18.50s/it]"
     ]
    },
    {
     "name": "stdout",
     "output_type": "stream",
     "text": [
      "семь 352\n"
     ]
    },
    {
     "name": "stderr",
     "output_type": "stream",
     "text": [
      "\r",
      " 22%|██████████████████▏                                                                | 9/41 [03:16<09:28, 17.78s/it]"
     ]
    },
    {
     "name": "stdout",
     "output_type": "stream",
     "text": [
      "восемь 385\n"
     ]
    },
    {
     "name": "stderr",
     "output_type": "stream",
     "text": [
      "\r",
      " 24%|████████████████████                                                              | 10/41 [03:30<08:37, 16.68s/it]"
     ]
    },
    {
     "name": "stdout",
     "output_type": "stream",
     "text": [
      "девять 291\n"
     ]
    },
    {
     "name": "stderr",
     "output_type": "stream",
     "text": [
      "\r",
      " 27%|██████████████████████                                                            | 11/41 [03:47<08:25, 16.84s/it]"
     ]
    },
    {
     "name": "stdout",
     "output_type": "stream",
     "text": [
      "десять 438\n"
     ]
    },
    {
     "name": "stderr",
     "output_type": "stream",
     "text": [
      "\r",
      " 29%|████████████████████████                                                          | 12/41 [04:02<07:46, 16.08s/it]"
     ]
    },
    {
     "name": "stdout",
     "output_type": "stream",
     "text": [
      "одиннадцать 100\n"
     ]
    },
    {
     "name": "stderr",
     "output_type": "stream",
     "text": [
      "\r",
      " 32%|██████████████████████████                                                        | 13/41 [04:16<07:15, 15.56s/it]"
     ]
    },
    {
     "name": "stdout",
     "output_type": "stream",
     "text": [
      "двенадцать 131\n"
     ]
    },
    {
     "name": "stderr",
     "output_type": "stream",
     "text": [
      "\r",
      " 34%|████████████████████████████                                                      | 14/41 [04:30<06:45, 15.01s/it]"
     ]
    },
    {
     "name": "stdout",
     "output_type": "stream",
     "text": [
      "тринадцать 66\n"
     ]
    },
    {
     "name": "stderr",
     "output_type": "stream",
     "text": [
      "\r",
      " 37%|██████████████████████████████                                                    | 15/41 [04:46<06:36, 15.24s/it]"
     ]
    },
    {
     "name": "stdout",
     "output_type": "stream",
     "text": [
      "четырнадцать 90\n"
     ]
    },
    {
     "name": "stderr",
     "output_type": "stream",
     "text": [
      "\r",
      " 39%|████████████████████████████████                                                  | 16/41 [05:00<06:18, 15.13s/it]"
     ]
    },
    {
     "name": "stdout",
     "output_type": "stream",
     "text": [
      "пятнадцать 171\n"
     ]
    },
    {
     "name": "stderr",
     "output_type": "stream",
     "text": [
      "\r",
      " 41%|██████████████████████████████████                                                | 17/41 [05:15<06:02, 15.09s/it]"
     ]
    },
    {
     "name": "stdout",
     "output_type": "stream",
     "text": [
      "шестнадцать 79\n"
     ]
    },
    {
     "name": "stderr",
     "output_type": "stream",
     "text": [
      "\r",
      " 44%|████████████████████████████████████                                              | 18/41 [05:30<05:43, 14.92s/it]"
     ]
    },
    {
     "name": "stdout",
     "output_type": "stream",
     "text": [
      "семнадцать 62\n"
     ]
    },
    {
     "name": "stderr",
     "output_type": "stream",
     "text": [
      "\r",
      " 46%|██████████████████████████████████████                                            | 19/41 [05:45<05:30, 15.01s/it]"
     ]
    },
    {
     "name": "stdout",
     "output_type": "stream",
     "text": [
      "восемнадцать 63\n"
     ]
    },
    {
     "name": "stderr",
     "output_type": "stream",
     "text": [
      "\r",
      " 49%|████████████████████████████████████████                                          | 20/41 [06:01<05:18, 15.15s/it]"
     ]
    },
    {
     "name": "stdout",
     "output_type": "stream",
     "text": [
      "девятнадцать 46\n"
     ]
    },
    {
     "name": "stderr",
     "output_type": "stream",
     "text": [
      "\r",
      " 51%|██████████████████████████████████████████                                        | 21/41 [06:19<05:19, 15.99s/it]"
     ]
    },
    {
     "name": "stdout",
     "output_type": "stream",
     "text": [
      "двадцать 731\n"
     ]
    },
    {
     "name": "stderr",
     "output_type": "stream",
     "text": [
      "\r",
      " 54%|████████████████████████████████████████████                                      | 22/41 [06:35<05:08, 16.24s/it]"
     ]
    },
    {
     "name": "stdout",
     "output_type": "stream",
     "text": [
      "тридцать 515\n"
     ]
    },
    {
     "name": "stderr",
     "output_type": "stream",
     "text": [
      "\r",
      " 56%|██████████████████████████████████████████████                                    | 23/41 [07:03<05:53, 19.62s/it]"
     ]
    },
    {
     "name": "stdout",
     "output_type": "stream",
     "text": [
      "сорок 357\n"
     ]
    },
    {
     "name": "stderr",
     "output_type": "stream",
     "text": [
      "\r",
      " 59%|████████████████████████████████████████████████                                  | 24/41 [07:17<05:06, 18.05s/it]"
     ]
    },
    {
     "name": "stdout",
     "output_type": "stream",
     "text": [
      "пятьдесят 375\n"
     ]
    },
    {
     "name": "stderr",
     "output_type": "stream",
     "text": [
      "\r",
      " 61%|██████████████████████████████████████████████████                                | 25/41 [07:48<05:48, 21.75s/it]"
     ]
    },
    {
     "name": "stdout",
     "output_type": "stream",
     "text": [
      "шестьдесяст 0\n"
     ]
    },
    {
     "name": "stderr",
     "output_type": "stream",
     "text": [
      "\r",
      " 63%|████████████████████████████████████████████████████                              | 26/41 [08:01<04:49, 19.29s/it]"
     ]
    },
    {
     "name": "stdout",
     "output_type": "stream",
     "text": [
      "семьдесят 175\n"
     ]
    },
    {
     "name": "stderr",
     "output_type": "stream",
     "text": [
      "\r",
      " 66%|██████████████████████████████████████████████████████                            | 27/41 [08:15<04:07, 17.71s/it]"
     ]
    },
    {
     "name": "stdout",
     "output_type": "stream",
     "text": [
      "восемьдесят 163\n"
     ]
    },
    {
     "name": "stderr",
     "output_type": "stream",
     "text": [
      "\r",
      " 68%|████████████████████████████████████████████████████████                          | 28/41 [08:30<03:36, 16.67s/it]"
     ]
    },
    {
     "name": "stdout",
     "output_type": "stream",
     "text": [
      "девяносто 164\n"
     ]
    },
    {
     "name": "stderr",
     "output_type": "stream",
     "text": [
      "\r",
      " 71%|██████████████████████████████████████████████████████████                        | 29/41 [09:03<04:21, 21.78s/it]"
     ]
    },
    {
     "name": "stdout",
     "output_type": "stream",
     "text": [
      "сто 573\n"
     ]
    },
    {
     "name": "stderr",
     "output_type": "stream",
     "text": [
      "\r",
      " 73%|████████████████████████████████████████████████████████████                      | 30/41 [09:16<03:28, 18.98s/it]"
     ]
    },
    {
     "name": "stdout",
     "output_type": "stream",
     "text": [
      "двести 231\n"
     ]
    },
    {
     "name": "stderr",
     "output_type": "stream",
     "text": [
      "\r",
      " 76%|██████████████████████████████████████████████████████████████                    | 31/41 [09:28<02:48, 16.88s/it]"
     ]
    },
    {
     "name": "stdout",
     "output_type": "stream",
     "text": [
      "триста 129\n"
     ]
    },
    {
     "name": "stderr",
     "output_type": "stream",
     "text": [
      "\r",
      " 78%|████████████████████████████████████████████████████████████████                  | 32/41 [09:39<02:17, 15.33s/it]"
     ]
    },
    {
     "name": "stdout",
     "output_type": "stream",
     "text": [
      "включить 212\n"
     ]
    },
    {
     "name": "stderr",
     "output_type": "stream",
     "text": [
      "\r",
      " 80%|██████████████████████████████████████████████████████████████████                | 33/41 [09:50<01:51, 13.96s/it]"
     ]
    },
    {
     "name": "stdout",
     "output_type": "stream",
     "text": [
      "выключить 27\n"
     ]
    },
    {
     "name": "stderr",
     "output_type": "stream",
     "text": [
      "\r",
      " 83%|████████████████████████████████████████████████████████████████████              | 34/41 [10:01<01:30, 12.98s/it]"
     ]
    },
    {
     "name": "stdout",
     "output_type": "stream",
     "text": [
      "точка 145\n"
     ]
    },
    {
     "name": "stderr",
     "output_type": "stream",
     "text": [
      "\r",
      " 85%|██████████████████████████████████████████████████████████████████████            | 35/41 [10:31<01:49, 18.17s/it]"
     ]
    },
    {
     "name": "stdout",
     "output_type": "stream",
     "text": [
      "привет 1414\n"
     ]
    },
    {
     "name": "stderr",
     "output_type": "stream",
     "text": [
      "\r",
      " 88%|████████████████████████████████████████████████████████████████████████          | 36/41 [11:43<02:51, 34.35s/it]"
     ]
    },
    {
     "name": "stdout",
     "output_type": "stream",
     "text": [
      "мотодепо 0\n"
     ]
    },
    {
     "name": "stderr",
     "output_type": "stream",
     "text": [
      "\r",
      " 90%|██████████████████████████████████████████████████████████████████████████        | 37/41 [12:04<02:01, 30.25s/it]"
     ]
    },
    {
     "name": "stdout",
     "output_type": "stream",
     "text": [
      "пока 601\n"
     ]
    },
    {
     "name": "stderr",
     "output_type": "stream",
     "text": [
      "\r",
      " 93%|████████████████████████████████████████████████████████████████████████████      | 38/41 [12:14<01:12, 24.20s/it]"
     ]
    },
    {
     "name": "stdout",
     "output_type": "stream",
     "text": [
      "вверх 20\n"
     ]
    },
    {
     "name": "stderr",
     "output_type": "stream",
     "text": [
      "\r",
      " 95%|██████████████████████████████████████████████████████████████████████████████    | 39/41 [12:23<00:39, 19.70s/it]"
     ]
    },
    {
     "name": "stdout",
     "output_type": "stream",
     "text": [
      "вниз 39\n"
     ]
    },
    {
     "name": "stderr",
     "output_type": "stream",
     "text": [
      "\r",
      " 98%|████████████████████████████████████████████████████████████████████████████████  | 40/41 [12:33<00:16, 16.62s/it]"
     ]
    },
    {
     "name": "stdout",
     "output_type": "stream",
     "text": [
      "влево 7\n"
     ]
    },
    {
     "name": "stderr",
     "output_type": "stream",
     "text": [
      "100%|██████████████████████████████████████████████████████████████████████████████████| 41/41 [12:42<00:00, 18.59s/it]"
     ]
    },
    {
     "name": "stdout",
     "output_type": "stream",
     "text": [
      "вправо 4\n",
      "Wall time: 12min 42s\n"
     ]
    },
    {
     "name": "stderr",
     "output_type": "stream",
     "text": [
      "\n"
     ]
    },
    {
     "data": {
      "text/plain": [
       "4"
      ]
     },
     "execution_count": 18,
     "metadata": {},
     "output_type": "execute_result"
    }
   ],
   "source": [
    "%%time\n",
    "\n",
    "# Ищу по всем папкам дата сета, нужные файлы копирую в отдельную папку \n",
    "\n",
    "dict_word = {}\n",
    "a = ''\n",
    "final_folder = 'result_all_data'\n",
    "for word in tqdm(main_word):\n",
    "    count = 0\n",
    "    for j in df.iterrows():\n",
    "        path = j[1][2]\n",
    "        name = j[1][0]\n",
    "        text = j[1][1]\n",
    "        text_norm = j[1][3]\n",
    "#         print(path)\n",
    "        word_norm = morph.parse(word)[0]\n",
    "        word_norm = word_norm.normal_form\n",
    "        if word_norm in text_norm:\n",
    "            count += 1\n",
    "# #             text = ' '.join(text)\n",
    "            name_wav = name + '.wav'\n",
    "            name_txt = name + '.txt'\n",
    "            path_wav = path + name_wav\n",
    "            path_txt = path + name_txt\n",
    "\n",
    "            shutil.copy(path_wav, final_folder)\n",
    "            shutil.copy(path_txt, final_folder)\n",
    "\n",
    "\n",
    "    print(word, count)\n",
    "            \n",
    "\n",
    "count"
   ]
  },
  {
   "cell_type": "code",
   "execution_count": 13,
   "id": "af1f043c",
   "metadata": {},
   "outputs": [],
   "source": [
    "df_res = pd.DataFrame(columns=['name', 'text', 'path'])"
   ]
  },
  {
   "cell_type": "code",
   "execution_count": 20,
   "id": "c95f0151",
   "metadata": {},
   "outputs": [
    {
     "name": "stdout",
     "output_type": "stream",
     "text": [
      "вправо\n"
     ]
    }
   ],
   "source": [
    "path = 'result_all_data'\n",
    "a = -1\n",
    "# for i in tqdm(range(count)):\n",
    "for root, dirs, files in os.walk(path):\n",
    "    if len(files) > 1:\n",
    "        for file in files:\n",
    "            path_file = root + '\\\\' + file\n",
    "            path_name = root + '\\\\'\n",
    "#                 print(root)\n",
    "            if file.split('.')[-1] == 'txt':\n",
    "                with open(path_file, encoding = 'utf-8') as f:\n",
    "    #                    print(f.read())\n",
    "                    dict_ = {'name': file,\n",
    "                             'text' : f.read(),\n",
    "                             'path': path_name}\n",
    "                    df_res= df_res.append(dict_, ignore_index=True)\n",
    "                    if a != i:\n",
    "                        a = i\n",
    "                        print(a)\n",
    "#                         a = i\n",
    "#                         print(i)"
   ]
  },
  {
   "cell_type": "code",
   "execution_count": 22,
   "id": "3e507aac",
   "metadata": {},
   "outputs": [],
   "source": [
    "df_res.to_pickle('df_all_res.pkl')"
   ]
  },
  {
   "cell_type": "markdown",
   "id": "e5c443af",
   "metadata": {},
   "source": [
    "# mini result DF"
   ]
  },
  {
   "cell_type": "markdown",
   "id": "e19ae3be",
   "metadata": {},
   "source": [
    "## эта часть ищет слова из main_word, проверяя только если в аудио произносится одно слово"
   ]
  },
  {
   "cell_type": "code",
   "execution_count": 19,
   "id": "eb8bfb31",
   "metadata": {},
   "outputs": [
    {
     "data": {
      "text/html": [
       "<div>\n",
       "<style scoped>\n",
       "    .dataframe tbody tr th:only-of-type {\n",
       "        vertical-align: middle;\n",
       "    }\n",
       "\n",
       "    .dataframe tbody tr th {\n",
       "        vertical-align: top;\n",
       "    }\n",
       "\n",
       "    .dataframe thead th {\n",
       "        text-align: right;\n",
       "    }\n",
       "</style>\n",
       "<table border=\"1\" class=\"dataframe\">\n",
       "  <thead>\n",
       "    <tr style=\"text-align: right;\">\n",
       "      <th></th>\n",
       "      <th>name</th>\n",
       "      <th>text</th>\n",
       "      <th>path</th>\n",
       "      <th>text_norm</th>\n",
       "      <th>join_text_norm</th>\n",
       "      <th>full_path</th>\n",
       "    </tr>\n",
       "  </thead>\n",
       "  <tbody>\n",
       "    <tr>\n",
       "      <th>59366</th>\n",
       "      <td>6ec58289-8f16-4581-9e2e-122ae42a16c8</td>\n",
       "      <td>аа здесь определённый участок полимерной основы</td>\n",
       "      <td>data\\a\\3\\</td>\n",
       "      <td>[аа, здесь, определённый, участок, полимерный,...</td>\n",
       "      <td>аа здесь определённый участок полимерный основа</td>\n",
       "      <td>data\\a\\3\\6ec58289-8f16-4581-9e2e-122ae42a16c8.txt</td>\n",
       "    </tr>\n",
       "  </tbody>\n",
       "</table>\n",
       "</div>"
      ],
      "text/plain": [
       "                                       name  \\\n",
       "59366  6ec58289-8f16-4581-9e2e-122ae42a16c8   \n",
       "\n",
       "                                                  text       path  \\\n",
       "59366  аа здесь определённый участок полимерной основы  data\\a\\3\\   \n",
       "\n",
       "                                               text_norm  \\\n",
       "59366  [аа, здесь, определённый, участок, полимерный,...   \n",
       "\n",
       "                                        join_text_norm  \\\n",
       "59366  аа здесь определённый участок полимерный основа   \n",
       "\n",
       "                                               full_path  \n",
       "59366  data\\a\\3\\6ec58289-8f16-4581-9e2e-122ae42a16c8.txt  "
      ]
     },
     "execution_count": 19,
     "metadata": {},
     "output_type": "execute_result"
    }
   ],
   "source": [
    "df.sample()"
   ]
  },
  {
   "cell_type": "code",
   "execution_count": 5,
   "id": "0f62e34e",
   "metadata": {},
   "outputs": [
    {
     "data": {
      "text/plain": [
       "0"
      ]
     },
     "execution_count": 5,
     "metadata": {},
     "output_type": "execute_result"
    }
   ],
   "source": [
    "# Ищу по всем папкам дата сета, нужные файлы копирую в отдельную папку \n",
    "count = 0\n",
    "cnt = 1\n",
    "final_folder = 'result_data'\n",
    "for i in main_word:\n",
    "#     num = as_words(i)\n",
    "    i_n = morph.parse(i)[0]\n",
    "    i_n = i_n.normal_form\n",
    "    list_ = df['join_text_norm'][df['join_text_norm'] == i_n]\n",
    "    if len(list_) >= 1:\n",
    "        count += len(list_)\n",
    "        path = df['path'][df['join_text_norm'] == i_n]\n",
    "        name = df['name'][df['join_text_norm'] == i_n]\n",
    "#         name = df['name'][df['text'] == i]\n",
    "        name_wav = [i + '.wav' for i in name]\n",
    "        name_txt = [i + '.txt' for i in name]\n",
    "        path_wav = [i + j for i, j in list(zip(path, name_wav))]\n",
    "        path_txt = [i + j for i, j in list(zip(path, name_txt))]\n",
    "        for i, j in list(zip(path_wav, path_txt)):\n",
    "            shutil.copy(i, final_folder)\n",
    "            shutil.copy(j, final_folder)\n",
    "#             print(cnt)\n",
    "            cnt += 1\n",
    "        print(f'{i} : {len(list_)}')\n",
    "count"
   ]
  },
  {
   "cell_type": "code",
   "execution_count": 9,
   "id": "ead085c4",
   "metadata": {},
   "outputs": [],
   "source": [
    "df_res = pd.DataFrame(columns=['name', 'text', 'path'])"
   ]
  },
  {
   "cell_type": "code",
   "execution_count": 10,
   "id": "b994042c",
   "metadata": {},
   "outputs": [
    {
     "data": {
      "text/plain": [
       "144264"
      ]
     },
     "execution_count": 10,
     "metadata": {},
     "output_type": "execute_result"
    }
   ],
   "source": [
    "path = 'result_data'\n",
    "count = 0\n",
    "for root, dirs, files in os.walk(path):\n",
    "    for i in files:\n",
    "        count += 1\n",
    "count"
   ]
  },
  {
   "cell_type": "code",
   "execution_count": 13,
   "id": "1f9a6357",
   "metadata": {},
   "outputs": [
    {
     "name": "stdout",
     "output_type": "stream",
     "text": [
      "выключить\n"
     ]
    }
   ],
   "source": [
    "os.path.exists(r\"result_data\\2\\0011d821437ae7e0afae1ac7cc260adb.txt\")\n",
    "file = r\"result_data\\2\\0011d821437ae7e0afae1ac7cc260adb.txt\"\n",
    "with open(file) as f:\n",
    "    print(f.read())"
   ]
  },
  {
   "cell_type": "code",
   "execution_count": 14,
   "id": "7b6de672",
   "metadata": {},
   "outputs": [
    {
     "name": "stdout",
     "output_type": "stream",
     "text": [
      "kilina_9_tone_0.59.wav\n"
     ]
    }
   ],
   "source": [
    "%%time\n",
    "\n",
    "path = 'result_data'\n",
    "a = -1\n",
    "# for i in tqdm(range(count)):\n",
    "for root, dirs, files in os.walk(path):\n",
    "    if len(files) > 1:\n",
    "        for file in files:\n",
    "            path_file = root + '\\\\' + file\n",
    "            path_name = root + '\\\\'\n",
    "#                 print(root)\n",
    "            if file.split('.')[-1] == 'txt':\n",
    "#                 print(path_file)\n",
    "                try:\n",
    "                    with open(path_file, encoding = 'utf-8') as f:\n",
    "        #                    print(f.read())\n",
    "\n",
    "                        dict_ = {'name': file,\n",
    "                                 'text' : f.read(),\n",
    "                                 'path': path_name}\n",
    "                        df_res= df_res.append(dict_, ignore_index=True)\n",
    "                        if a != i:\n",
    "                            a = i\n",
    "                            print(a)\n",
    "                except:\n",
    "                    with open(path_file) as f:\n",
    "        #                    print(f.read())\n",
    "\n",
    "                        dict_ = {'name': file,\n",
    "                                 'text' : f.read(),\n",
    "                                 'path': path_name}\n",
    "                        df_res= df_res.append(dict_, ignore_index=True)\n",
    "                        if a != i:\n",
    "                            a = i\n",
    "                            print(a)\n",
    "#                         a = i\n",
    "#                         print(i)"
   ]
  },
  {
   "cell_type": "code",
   "execution_count": 28,
   "id": "4af873cc",
   "metadata": {},
   "outputs": [
    {
     "data": {
      "text/html": [
       "<div>\n",
       "<style scoped>\n",
       "    .dataframe tbody tr th:only-of-type {\n",
       "        vertical-align: middle;\n",
       "    }\n",
       "\n",
       "    .dataframe tbody tr th {\n",
       "        vertical-align: top;\n",
       "    }\n",
       "\n",
       "    .dataframe thead th {\n",
       "        text-align: right;\n",
       "    }\n",
       "</style>\n",
       "<table border=\"1\" class=\"dataframe\">\n",
       "  <thead>\n",
       "    <tr style=\"text-align: right;\">\n",
       "      <th></th>\n",
       "      <th>name</th>\n",
       "      <th>text</th>\n",
       "      <th>path</th>\n",
       "    </tr>\n",
       "  </thead>\n",
       "  <tbody>\n",
       "    <tr>\n",
       "      <th>270</th>\n",
       "      <td>kilina_1.txt</td>\n",
       "      <td>килина</td>\n",
       "      <td>result_data\\1\\</td>\n",
       "    </tr>\n",
       "    <tr>\n",
       "      <th>271</th>\n",
       "      <td>kilina_10.txt</td>\n",
       "      <td>килина</td>\n",
       "      <td>result_data\\1\\</td>\n",
       "    </tr>\n",
       "    <tr>\n",
       "      <th>272</th>\n",
       "      <td>kilina_11.txt</td>\n",
       "      <td>килина</td>\n",
       "      <td>result_data\\1\\</td>\n",
       "    </tr>\n",
       "    <tr>\n",
       "      <th>273</th>\n",
       "      <td>kilina_12.txt</td>\n",
       "      <td>килина</td>\n",
       "      <td>result_data\\1\\</td>\n",
       "    </tr>\n",
       "    <tr>\n",
       "      <th>274</th>\n",
       "      <td>kilina_13.txt</td>\n",
       "      <td>килина</td>\n",
       "      <td>result_data\\1\\</td>\n",
       "    </tr>\n",
       "    <tr>\n",
       "      <th>275</th>\n",
       "      <td>kilina_14.txt</td>\n",
       "      <td>килина</td>\n",
       "      <td>result_data\\1\\</td>\n",
       "    </tr>\n",
       "    <tr>\n",
       "      <th>276</th>\n",
       "      <td>kilina_15.txt</td>\n",
       "      <td>килина</td>\n",
       "      <td>result_data\\1\\</td>\n",
       "    </tr>\n",
       "    <tr>\n",
       "      <th>277</th>\n",
       "      <td>kilina_2.txt</td>\n",
       "      <td>килина</td>\n",
       "      <td>result_data\\1\\</td>\n",
       "    </tr>\n",
       "    <tr>\n",
       "      <th>278</th>\n",
       "      <td>kilina_3.txt</td>\n",
       "      <td>килина</td>\n",
       "      <td>result_data\\1\\</td>\n",
       "    </tr>\n",
       "    <tr>\n",
       "      <th>279</th>\n",
       "      <td>kilina_4.txt</td>\n",
       "      <td>килина</td>\n",
       "      <td>result_data\\1\\</td>\n",
       "    </tr>\n",
       "    <tr>\n",
       "      <th>280</th>\n",
       "      <td>kilina_5.txt</td>\n",
       "      <td>килина</td>\n",
       "      <td>result_data\\1\\</td>\n",
       "    </tr>\n",
       "    <tr>\n",
       "      <th>281</th>\n",
       "      <td>kilina_6.txt</td>\n",
       "      <td>килина</td>\n",
       "      <td>result_data\\1\\</td>\n",
       "    </tr>\n",
       "    <tr>\n",
       "      <th>282</th>\n",
       "      <td>kilina_7.txt</td>\n",
       "      <td>килина</td>\n",
       "      <td>result_data\\1\\</td>\n",
       "    </tr>\n",
       "    <tr>\n",
       "      <th>283</th>\n",
       "      <td>kilina_8.txt</td>\n",
       "      <td>килина</td>\n",
       "      <td>result_data\\1\\</td>\n",
       "    </tr>\n",
       "    <tr>\n",
       "      <th>284</th>\n",
       "      <td>kilina_9.txt</td>\n",
       "      <td>килина</td>\n",
       "      <td>result_data\\1\\</td>\n",
       "    </tr>\n",
       "    <tr>\n",
       "      <th>1216</th>\n",
       "      <td>de6e1151d58a6acf52f653b9e294900e.txt</td>\n",
       "      <td>килина</td>\n",
       "      <td>result_data\\2\\</td>\n",
       "    </tr>\n",
       "  </tbody>\n",
       "</table>\n",
       "</div>"
      ],
      "text/plain": [
       "                                      name    text            path\n",
       "270                           kilina_1.txt  килина  result_data\\1\\\n",
       "271                          kilina_10.txt  килина  result_data\\1\\\n",
       "272                          kilina_11.txt  килина  result_data\\1\\\n",
       "273                          kilina_12.txt  килина  result_data\\1\\\n",
       "274                          kilina_13.txt  килина  result_data\\1\\\n",
       "275                          kilina_14.txt  килина  result_data\\1\\\n",
       "276                          kilina_15.txt  килина  result_data\\1\\\n",
       "277                           kilina_2.txt  килина  result_data\\1\\\n",
       "278                           kilina_3.txt  килина  result_data\\1\\\n",
       "279                           kilina_4.txt  килина  result_data\\1\\\n",
       "280                           kilina_5.txt  килина  result_data\\1\\\n",
       "281                           kilina_6.txt  килина  result_data\\1\\\n",
       "282                           kilina_7.txt  килина  result_data\\1\\\n",
       "283                           kilina_8.txt  килина  result_data\\1\\\n",
       "284                           kilina_9.txt  килина  result_data\\1\\\n",
       "1216  de6e1151d58a6acf52f653b9e294900e.txt  килина  result_data\\2\\"
      ]
     },
     "execution_count": 28,
     "metadata": {},
     "output_type": "execute_result"
    }
   ],
   "source": [
    "df_res[df_res['text'] == 'килина']"
   ]
  },
  {
   "cell_type": "code",
   "execution_count": 15,
   "id": "7c21c593",
   "metadata": {},
   "outputs": [],
   "source": [
    "df_res['name'] = [i.replace('.txt', '') for i in df_res.name]"
   ]
  },
  {
   "cell_type": "code",
   "execution_count": 16,
   "id": "026c1c65",
   "metadata": {},
   "outputs": [],
   "source": [
    "def norm_text_res(text):\n",
    "    i_n = morph.parse(text)[0]\n",
    "    i_n = i_n.normal_form\n",
    "    return i_n"
   ]
  },
  {
   "cell_type": "code",
   "execution_count": 17,
   "id": "32e8db7a",
   "metadata": {},
   "outputs": [
    {
     "name": "stdout",
     "output_type": "stream",
     "text": [
      "Wall time: 13.4 s\n"
     ]
    }
   ],
   "source": [
    "%%time\n",
    "df_res['text_norm'] = df_res['text'].apply(lambda x: norm_text_res(x))"
   ]
  },
  {
   "cell_type": "code",
   "execution_count": 18,
   "id": "34dbb790",
   "metadata": {},
   "outputs": [
    {
     "data": {
      "text/html": [
       "<div>\n",
       "<style scoped>\n",
       "    .dataframe tbody tr th:only-of-type {\n",
       "        vertical-align: middle;\n",
       "    }\n",
       "\n",
       "    .dataframe tbody tr th {\n",
       "        vertical-align: top;\n",
       "    }\n",
       "\n",
       "    .dataframe thead th {\n",
       "        text-align: right;\n",
       "    }\n",
       "</style>\n",
       "<table border=\"1\" class=\"dataframe\">\n",
       "  <thead>\n",
       "    <tr style=\"text-align: right;\">\n",
       "      <th></th>\n",
       "      <th>name</th>\n",
       "      <th>text</th>\n",
       "      <th>path</th>\n",
       "      <th>text_norm</th>\n",
       "    </tr>\n",
       "  </thead>\n",
       "  <tbody>\n",
       "    <tr>\n",
       "      <th>0</th>\n",
       "      <td>00263e5e-6685-4ad6-9b44-c91af6bd73dd</td>\n",
       "      <td>привет</td>\n",
       "      <td>result_data\\1\\</td>\n",
       "      <td>привет</td>\n",
       "    </tr>\n",
       "    <tr>\n",
       "      <th>1</th>\n",
       "      <td>0077f49e-8768-4be1-b8d2-f82a5db33fc8</td>\n",
       "      <td>семьдесят шесть</td>\n",
       "      <td>result_data\\1\\</td>\n",
       "      <td>семьдесят шесть</td>\n",
       "    </tr>\n",
       "    <tr>\n",
       "      <th>2</th>\n",
       "      <td>013b89f4-648e-4bf2-aa75-a5f0445dda64</td>\n",
       "      <td>привет</td>\n",
       "      <td>result_data\\1\\</td>\n",
       "      <td>привет</td>\n",
       "    </tr>\n",
       "    <tr>\n",
       "      <th>3</th>\n",
       "      <td>0199d353-2875-4b53-ae42-58096a57d241</td>\n",
       "      <td>привет</td>\n",
       "      <td>result_data\\1\\</td>\n",
       "      <td>привет</td>\n",
       "    </tr>\n",
       "    <tr>\n",
       "      <th>4</th>\n",
       "      <td>02eec118-37ab-44a7-a09e-860814d79b89</td>\n",
       "      <td>привет</td>\n",
       "      <td>result_data\\1\\</td>\n",
       "      <td>привет</td>\n",
       "    </tr>\n",
       "  </tbody>\n",
       "</table>\n",
       "</div>"
      ],
      "text/plain": [
       "                                   name             text            path  \\\n",
       "0  00263e5e-6685-4ad6-9b44-c91af6bd73dd           привет  result_data\\1\\   \n",
       "1  0077f49e-8768-4be1-b8d2-f82a5db33fc8  семьдесят шесть  result_data\\1\\   \n",
       "2  013b89f4-648e-4bf2-aa75-a5f0445dda64           привет  result_data\\1\\   \n",
       "3  0199d353-2875-4b53-ae42-58096a57d241           привет  result_data\\1\\   \n",
       "4  02eec118-37ab-44a7-a09e-860814d79b89           привет  result_data\\1\\   \n",
       "\n",
       "         text_norm  \n",
       "0           привет  \n",
       "1  семьдесят шесть  \n",
       "2           привет  \n",
       "3           привет  \n",
       "4           привет  "
      ]
     },
     "execution_count": 18,
     "metadata": {},
     "output_type": "execute_result"
    }
   ],
   "source": [
    "df_res.head()"
   ]
  },
  {
   "cell_type": "code",
   "execution_count": 20,
   "id": "b8fa19ed",
   "metadata": {},
   "outputs": [
    {
     "data": {
      "text/plain": [
       "(72131, 4)"
      ]
     },
     "execution_count": 20,
     "metadata": {},
     "output_type": "execute_result"
    }
   ],
   "source": [
    "df_res.shape"
   ]
  },
  {
   "cell_type": "code",
   "execution_count": 35,
   "id": "1dc9392b",
   "metadata": {},
   "outputs": [
    {
     "data": {
      "text/plain": [
       "True"
      ]
     },
     "execution_count": 35,
     "metadata": {},
     "output_type": "execute_result"
    }
   ],
   "source": [
    "file_path = r\"result_data\\1\\0199d353-2875-4b53-ae42-58096a57d241.txt\"\n",
    "os.path.exists(file_path)"
   ]
  },
  {
   "cell_type": "code",
   "execution_count": 21,
   "id": "8b5fa774",
   "metadata": {},
   "outputs": [],
   "source": [
    "df_res.to_pickle('df_res.pkl')"
   ]
  },
  {
   "cell_type": "code",
   "execution_count": 37,
   "id": "172e3466",
   "metadata": {},
   "outputs": [],
   "source": [
    "df_res = pd.read_pickle('df_res.pkl')"
   ]
  },
  {
   "cell_type": "code",
   "execution_count": 38,
   "id": "7c9018c7",
   "metadata": {},
   "outputs": [
    {
     "name": "stdout",
     "output_type": "stream",
     "text": [
      "<class 'pandas.core.frame.DataFrame'>\n",
      "RangeIndex: 1361 entries, 0 to 1360\n",
      "Data columns (total 4 columns):\n",
      " #   Column     Non-Null Count  Dtype \n",
      "---  ------     --------------  ----- \n",
      " 0   name       1361 non-null   object\n",
      " 1   text       1361 non-null   object\n",
      " 2   path       1361 non-null   object\n",
      " 3   text_norm  1361 non-null   object\n",
      "dtypes: object(4)\n",
      "memory usage: 42.7+ KB\n"
     ]
    }
   ],
   "source": [
    "df_res.info()"
   ]
  },
  {
   "cell_type": "markdown",
   "id": "5ea56e10",
   "metadata": {},
   "source": [
    "# проверка конечной папки"
   ]
  },
  {
   "cell_type": "code",
   "execution_count": 28,
   "id": "0b4f650d",
   "metadata": {},
   "outputs": [],
   "source": [
    "path = 'result_data'"
   ]
  },
  {
   "cell_type": "code",
   "execution_count": 29,
   "id": "88bcc414",
   "metadata": {},
   "outputs": [],
   "source": [
    "df_chek = pd.DataFrame(columns=['name', 'text', 'path'])"
   ]
  },
  {
   "cell_type": "code",
   "execution_count": 30,
   "id": "a283da88",
   "metadata": {},
   "outputs": [
    {
     "name": "stdout",
     "output_type": "stream",
     "text": [
      "спальня\n"
     ]
    }
   ],
   "source": [
    "# count = 0\n",
    "a = -1\n",
    "# for i in tqdm(range(count)):\n",
    "for root, dirs, files in os.walk(path):\n",
    "    if len(files) > 1:\n",
    "        for file in files:\n",
    "            path_file = root + '\\\\' + file\n",
    "            path_name = root + '\\\\'\n",
    "#                 print(root)\n",
    "            if file.split('.')[-1] == 'txt':\n",
    "                with open(path_file, encoding = 'utf-8') as f:\n",
    "    #                    print(f.read())\n",
    "                    dict_ = {'name': file,\n",
    "                             'text' : f.read(),\n",
    "                             'path': path_name}\n",
    "                    df_chek= df_chek.append(dict_, ignore_index=True)\n",
    "                    if a != i:\n",
    "                        a = i\n",
    "                        print(a)\n",
    "#                         a = i\n",
    "#                         print(i)"
   ]
  },
  {
   "cell_type": "code",
   "execution_count": 31,
   "id": "c3afc357",
   "metadata": {},
   "outputs": [
    {
     "name": "stdout",
     "output_type": "stream",
     "text": [
      "привет 158\n",
      "семьдесят шесть 2\n",
      "один 32\n",
      "сорок один 2\n",
      "два 26\n",
      "две 2\n",
      "сорок два 1\n",
      "ноль 11\n",
      "двух 1\n",
      "одиннадцать 1\n",
      "одна 1\n",
      "сто сорок два 2\n",
      "восемьдесят 1\n",
      "четыре 5\n",
      "двести семьдесят один 2\n",
      "тридцать два 1\n",
      "три 5\n",
      "сорок шесть 1\n",
      "сто тридцать восемь 1\n",
      "тридцать девять 1\n",
      "двести двадцать 1\n",
      "сто тридцать девять 1\n",
      "точка 2\n",
      "тридцать 1\n",
      "тридцать шесть 1\n",
      "пять 1\n",
      "сто десять 1\n",
      "тридцать один 1\n",
      "девятнадцать 1\n",
      "пока 2\n",
      "двадцать 1\n",
      "сто тридцать один 1\n",
      "килина 15\n"
     ]
    }
   ],
   "source": [
    "a = df_chek['text']\n",
    "a = dict(Counter(a))\n",
    "for i, j in a.items():\n",
    "    print(i, j)"
   ]
  },
  {
   "cell_type": "markdown",
   "id": "c23a592b",
   "metadata": {},
   "source": [
    "# Kilina"
   ]
  },
  {
   "cell_type": "code",
   "execution_count": 52,
   "id": "01f6831c",
   "metadata": {},
   "outputs": [
    {
     "name": "stderr",
     "output_type": "stream",
     "text": [
      "c:\\program files\\python37\\lib\\site-packages\\pydub\\utils.py:170: RuntimeWarning: Couldn't find ffmpeg or avconv - defaulting to ffmpeg, but may not work\n",
      "  warn(\"Couldn't find ffmpeg or avconv - defaulting to ffmpeg, but may not work\", RuntimeWarning)\n"
     ]
    }
   ],
   "source": [
    "from pydub import AudioSegment"
   ]
  },
  {
   "cell_type": "code",
   "execution_count": 39,
   "id": "13f3e054",
   "metadata": {},
   "outputs": [],
   "source": [
    "path = 'килина'\n",
    "for root, dirs, files in os.walk(path):\n",
    "    for i in files:\n",
    "        \n",
    "        new_name = i.replace('(', '').replace(')', '').replace(' ', '_')\n",
    "        path_file = path + f\"\\\\{i}\"\n",
    "        os.rename(path + f\"\\\\{i}\", path + f\"\\\\{new_name}\" )\n",
    "#         print(new_name)"
   ]
  },
  {
   "cell_type": "code",
   "execution_count": 54,
   "id": "bce52759",
   "metadata": {},
   "outputs": [],
   "source": [
    "DATASET_PATH = 'result_data\\\\'"
   ]
  },
  {
   "cell_type": "code",
   "execution_count": 64,
   "id": "c06bb2a1",
   "metadata": {},
   "outputs": [
    {
     "name": "stdout",
     "output_type": "stream",
     "text": [
      "kilina_1.wav\n",
      "kilina_10.wav\n",
      "kilina_11.wav\n",
      "kilina_12.wav\n",
      "kilina_13.wav\n",
      "kilina_14.wav\n",
      "kilina_15.wav\n",
      "kilina_2.wav\n",
      "kilina_3.wav\n",
      "kilina_4.wav\n",
      "kilina_5.wav\n",
      "kilina_6.wav\n",
      "kilina_7.wav\n",
      "kilina_8.wav\n",
      "kilina_9.wav\n"
     ]
    }
   ],
   "source": [
    "for root, dirs, files in os.walk(DATASET_PATH):\n",
    "    for i in files:\n",
    "#         print(i.split('.')[0][:6])\n",
    "        if i.split('.')[1] == 'wav' and i.split('.')[0][:6] == 'kilina':\n",
    "            sound = AudioSegment.from_wav(DATASET_PATH + i)\n",
    "            sound = sound.set_channels(1)\n",
    "            sound.export(DATASET_PATH + i, format=\"wav\")\n",
    "            print(i)\n",
    "        "
   ]
  },
  {
   "cell_type": "code",
   "execution_count": null,
   "id": "d50449ca",
   "metadata": {},
   "outputs": [],
   "source": [
    "\n",
    "sound = AudioSegment.from_wav(DATASET_PATH + 'kilina_1.wav')\n",
    "sound = sound.set_channels(1)\n",
    "sound.export(DATASET_PATH + 'kilina_1.wav', format=\"wav\")"
   ]
  }
 ],
 "metadata": {
  "kernelspec": {
   "display_name": "Python 3 (ipykernel)",
   "language": "python",
   "name": "python3"
  },
  "language_info": {
   "codemirror_mode": {
    "name": "ipython",
    "version": 3
   },
   "file_extension": ".py",
   "mimetype": "text/x-python",
   "name": "python",
   "nbconvert_exporter": "python",
   "pygments_lexer": "ipython3",
   "version": "3.7.9"
  }
 },
 "nbformat": 4,
 "nbformat_minor": 5
}
